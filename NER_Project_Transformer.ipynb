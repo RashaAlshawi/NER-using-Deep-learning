{
  "cells": [
    {
      "cell_type": "markdown",
      "metadata": {
        "id": "view-in-github",
        "colab_type": "text"
      },
      "source": [
        "<a href=\"https://colab.research.google.com/github/RashaAlshawi/NER-using-Deep-learning/blob/main/NER_Project_Transformer.ipynb\" target=\"_parent\"><img src=\"https://colab.research.google.com/assets/colab-badge.svg\" alt=\"Open In Colab\"/></a>"
      ]
    },
    {
      "cell_type": "markdown",
      "metadata": {
        "id": "SQLvm96MKKgt"
      },
      "source": [
        "### ` Intelligently Predicting Viral Spillover Risks from Bats  and other Wild Mammals `     \n",
        "🦇"
      ]
    },
    {
      "cell_type": "code",
      "execution_count": null,
      "metadata": {
        "id": "ue-Kl0oPZtfr"
      },
      "outputs": [],
      "source": [
        "import pandas as pd\n",
        "import numpy as np\n",
        "import os\n",
        "import sys\n",
        "import matplotlib.pyplot as plt\n",
        "import tensorflow as tf\n",
        "from tensorflow import keras\n",
        "from tensorflow.keras import layers\n",
        "from tensorflow.keras.preprocessing.text import Tokenizer\n",
        "from tensorflow.keras.preprocessing.sequence import pad_sequences\n",
        "from sklearn.metrics import precision_recall_fscore_support,accuracy_score\n"
      ]
    },
    {
      "cell_type": "code",
      "source": [
        "from google.colab import drive\n",
        "drive.mount('/content/drive')"
      ],
      "metadata": {
        "colab": {
          "base_uri": "https://localhost:8080/"
        },
        "id": "UiCshzV-BuKU",
        "outputId": "0a868af5-1b65-4374-bfe4-72f3154cc808"
      },
      "execution_count": null,
      "outputs": [
        {
          "output_type": "stream",
          "name": "stdout",
          "text": [
            "Mounted at /content/drive\n"
          ]
        }
      ]
    },
    {
      "cell_type": "code",
      "source": [
        "#virus ds \n",
        "data=pd.read_csv('/content/drive/MyDrive/viruses/viruses_dataset.csv')"
      ],
      "metadata": {
        "id": "7ZdaWptAHhjg"
      },
      "execution_count": null,
      "outputs": []
    },
    {
      "cell_type": "code",
      "source": [
        "data=data.fillna(method='ffill')"
      ],
      "metadata": {
        "id": "hApOx6TEKw3v"
      },
      "execution_count": null,
      "outputs": []
    },
    {
      "cell_type": "code",
      "source": [
        "# change the label of the first column\n",
        "from sklearn.preprocessing import LabelEncoder\n",
        "data['sentence_id']=LabelEncoder().fit_transform(data['sentence_id'])"
      ],
      "metadata": {
        "id": "AVQ3ChQ3K7If"
      },
      "execution_count": null,
      "outputs": []
    },
    {
      "cell_type": "code",
      "source": [
        "# label info \n",
        "labels = data.label.unique()\n",
        "labels"
      ],
      "metadata": {
        "colab": {
          "base_uri": "https://localhost:8080/"
        },
        "id": "wc6vtV0bK99q",
        "outputId": "616a9a8a-89ed-4e41-f9ac-a84c8a0549f6"
      },
      "execution_count": null,
      "outputs": [
        {
          "output_type": "execute_result",
          "data": {
            "text/plain": [
              "array(['O', 'B-VIRUS', 'I-VIRUS', 'B-HOST', 'I-HOST', 'B-DETECTIONMETHOD',\n",
              "       'I-DETECTIONMETHOD'], dtype=object)"
            ]
          },
          "metadata": {},
          "execution_count": 6
        }
      ]
    },
    {
      "cell_type": "code",
      "source": [
        "label_to_ID = {}\n",
        "for i, label in enumerate(labels):\n",
        "    label_to_ID[label] = i\n",
        "label_to_ID"
      ],
      "metadata": {
        "colab": {
          "base_uri": "https://localhost:8080/"
        },
        "id": "NSrpVeCTLE2S",
        "outputId": "a2da929f-0fdf-4879-bb2e-4dc19800dcff"
      },
      "execution_count": null,
      "outputs": [
        {
          "output_type": "execute_result",
          "data": {
            "text/plain": [
              "{'B-DETECTIONMETHOD': 5,\n",
              " 'B-HOST': 3,\n",
              " 'B-VIRUS': 1,\n",
              " 'I-DETECTIONMETHOD': 6,\n",
              " 'I-HOST': 4,\n",
              " 'I-VIRUS': 2,\n",
              " 'O': 0}"
            ]
          },
          "metadata": {},
          "execution_count": 7
        }
      ]
    },
    {
      "cell_type": "code",
      "source": [
        "# for prediction #####\n",
        "id2tag = {}\n",
        "for i, j in label_to_ID.items():\n",
        "    id2tag[j] = i"
      ],
      "metadata": {
        "id": "Gz6Kff6wLHcT"
      },
      "execution_count": null,
      "outputs": []
    },
    {
      "cell_type": "code",
      "source": [
        "#id2word, id2tag\n",
        "id2tag"
      ],
      "metadata": {
        "colab": {
          "base_uri": "https://localhost:8080/"
        },
        "id": "F92NBn2OU5ZK",
        "outputId": "3ea53556-3585-4f38-fe95-7a5a7cd5adf5"
      },
      "execution_count": null,
      "outputs": [
        {
          "output_type": "execute_result",
          "data": {
            "text/plain": [
              "{0: 'O',\n",
              " 1: 'B-VIRUS',\n",
              " 2: 'I-VIRUS',\n",
              " 3: 'B-HOST',\n",
              " 4: 'I-HOST',\n",
              " 5: 'B-DETECTIONMETHOD',\n",
              " 6: 'I-DETECTIONMETHOD'}"
            ]
          },
          "metadata": {},
          "execution_count": 9
        }
      ]
    },
    {
      "cell_type": "code",
      "source": [
        "# map the IOB labels into numbers\n",
        "data['labels_ids']=(data['label'].map(label_to_ID))"
      ],
      "metadata": {
        "id": "7NG5kcDLLOhy"
      },
      "execution_count": null,
      "outputs": []
    },
    {
      "cell_type": "code",
      "execution_count": null,
      "metadata": {
        "colab": {
          "base_uri": "https://localhost:8080/"
        },
        "id": "qpXQtTcWjUUC",
        "outputId": "2bb48c81-f468-4b2d-f6b9-cf1c842b0b61"
      },
      "outputs": [
        {
          "output_type": "stream",
          "name": "stderr",
          "text": [
            "/usr/local/lib/python3.7/dist-packages/ipykernel_launcher.py:3: FutureWarning: Indexing with multiple keys (implicitly converted to a tuple of keys) will be deprecated, use a list instead.\n",
            "  This is separate from the ipykernel package so we can avoid doing imports until\n"
          ]
        }
      ],
      "source": [
        "#Group each sentence in one list \n",
        "pre_data=data.groupby(\n",
        "    ['sentence_id'],as_index=False)['label','labels_ids'].agg(lambda x:list(x)) # agg query apply on the groupby"
      ]
    },
    {
      "cell_type": "code",
      "source": [
        "#Group each sentence in one list \n",
        "pre_data1=data.groupby(['sentence_id'],as_index=False)['word'].agg(lambda x:' '.join(x)) # agg query apply on the groupby"
      ],
      "metadata": {
        "id": "x6vLfvgCEEkU"
      },
      "execution_count": null,
      "outputs": []
    },
    {
      "cell_type": "code",
      "source": [
        "pre_data['words']=pre_data1['word']"
      ],
      "metadata": {
        "id": "XiC-molQEHvt"
      },
      "execution_count": null,
      "outputs": []
    },
    {
      "cell_type": "code",
      "source": [
        "pre_data.head(1)"
      ],
      "metadata": {
        "colab": {
          "base_uri": "https://localhost:8080/",
          "height": 81
        },
        "id": "5O5x7ZrdLU46",
        "outputId": "ce45ab4f-d96f-45ed-e1de-7c536adf87ea"
      },
      "execution_count": null,
      "outputs": [
        {
          "output_type": "execute_result",
          "data": {
            "text/plain": [
              "   sentence_id                                              label  \\\n",
              "0            0  [O, O, O, O, O, O, O, O, O, B-VIRUS, O, O, O, ...   \n",
              "\n",
              "                                          labels_ids  \\\n",
              "0  [1, 1, 1, 1, 1, 1, 1, 1, 1, 2, 1, 1, 1, 1, 1, ...   \n",
              "\n",
              "                                               words  \n",
              "0  To determine whether transplacental transmissi...  "
            ],
            "text/html": [
              "\n",
              "  <div id=\"df-0d5fb3e0-6ec7-4125-a756-4d6af4d0b196\">\n",
              "    <div class=\"colab-df-container\">\n",
              "      <div>\n",
              "<style scoped>\n",
              "    .dataframe tbody tr th:only-of-type {\n",
              "        vertical-align: middle;\n",
              "    }\n",
              "\n",
              "    .dataframe tbody tr th {\n",
              "        vertical-align: top;\n",
              "    }\n",
              "\n",
              "    .dataframe thead th {\n",
              "        text-align: right;\n",
              "    }\n",
              "</style>\n",
              "<table border=\"1\" class=\"dataframe\">\n",
              "  <thead>\n",
              "    <tr style=\"text-align: right;\">\n",
              "      <th></th>\n",
              "      <th>sentence_id</th>\n",
              "      <th>label</th>\n",
              "      <th>labels_ids</th>\n",
              "      <th>words</th>\n",
              "    </tr>\n",
              "  </thead>\n",
              "  <tbody>\n",
              "    <tr>\n",
              "      <th>0</th>\n",
              "      <td>0</td>\n",
              "      <td>[O, O, O, O, O, O, O, O, O, B-VIRUS, O, O, O, ...</td>\n",
              "      <td>[1, 1, 1, 1, 1, 1, 1, 1, 1, 2, 1, 1, 1, 1, 1, ...</td>\n",
              "      <td>To determine whether transplacental transmissi...</td>\n",
              "    </tr>\n",
              "  </tbody>\n",
              "</table>\n",
              "</div>\n",
              "      <button class=\"colab-df-convert\" onclick=\"convertToInteractive('df-0d5fb3e0-6ec7-4125-a756-4d6af4d0b196')\"\n",
              "              title=\"Convert this dataframe to an interactive table.\"\n",
              "              style=\"display:none;\">\n",
              "        \n",
              "  <svg xmlns=\"http://www.w3.org/2000/svg\" height=\"24px\"viewBox=\"0 0 24 24\"\n",
              "       width=\"24px\">\n",
              "    <path d=\"M0 0h24v24H0V0z\" fill=\"none\"/>\n",
              "    <path d=\"M18.56 5.44l.94 2.06.94-2.06 2.06-.94-2.06-.94-.94-2.06-.94 2.06-2.06.94zm-11 1L8.5 8.5l.94-2.06 2.06-.94-2.06-.94L8.5 2.5l-.94 2.06-2.06.94zm10 10l.94 2.06.94-2.06 2.06-.94-2.06-.94-.94-2.06-.94 2.06-2.06.94z\"/><path d=\"M17.41 7.96l-1.37-1.37c-.4-.4-.92-.59-1.43-.59-.52 0-1.04.2-1.43.59L10.3 9.45l-7.72 7.72c-.78.78-.78 2.05 0 2.83L4 21.41c.39.39.9.59 1.41.59.51 0 1.02-.2 1.41-.59l7.78-7.78 2.81-2.81c.8-.78.8-2.07 0-2.86zM5.41 20L4 18.59l7.72-7.72 1.47 1.35L5.41 20z\"/>\n",
              "  </svg>\n",
              "      </button>\n",
              "      \n",
              "  <style>\n",
              "    .colab-df-container {\n",
              "      display:flex;\n",
              "      flex-wrap:wrap;\n",
              "      gap: 12px;\n",
              "    }\n",
              "\n",
              "    .colab-df-convert {\n",
              "      background-color: #E8F0FE;\n",
              "      border: none;\n",
              "      border-radius: 50%;\n",
              "      cursor: pointer;\n",
              "      display: none;\n",
              "      fill: #1967D2;\n",
              "      height: 32px;\n",
              "      padding: 0 0 0 0;\n",
              "      width: 32px;\n",
              "    }\n",
              "\n",
              "    .colab-df-convert:hover {\n",
              "      background-color: #E2EBFA;\n",
              "      box-shadow: 0px 1px 2px rgba(60, 64, 67, 0.3), 0px 1px 3px 1px rgba(60, 64, 67, 0.15);\n",
              "      fill: #174EA6;\n",
              "    }\n",
              "\n",
              "    [theme=dark] .colab-df-convert {\n",
              "      background-color: #3B4455;\n",
              "      fill: #D2E3FC;\n",
              "    }\n",
              "\n",
              "    [theme=dark] .colab-df-convert:hover {\n",
              "      background-color: #434B5C;\n",
              "      box-shadow: 0px 1px 3px 1px rgba(0, 0, 0, 0.15);\n",
              "      filter: drop-shadow(0px 1px 2px rgba(0, 0, 0, 0.3));\n",
              "      fill: #FFFFFF;\n",
              "    }\n",
              "  </style>\n",
              "\n",
              "      <script>\n",
              "        const buttonEl =\n",
              "          document.querySelector('#df-0d5fb3e0-6ec7-4125-a756-4d6af4d0b196 button.colab-df-convert');\n",
              "        buttonEl.style.display =\n",
              "          google.colab.kernel.accessAllowed ? 'block' : 'none';\n",
              "\n",
              "        async function convertToInteractive(key) {\n",
              "          const element = document.querySelector('#df-0d5fb3e0-6ec7-4125-a756-4d6af4d0b196');\n",
              "          const dataTable =\n",
              "            await google.colab.kernel.invokeFunction('convertToInteractive',\n",
              "                                                     [key], {});\n",
              "          if (!dataTable) return;\n",
              "\n",
              "          const docLinkHtml = 'Like what you see? Visit the ' +\n",
              "            '<a target=\"_blank\" href=https://colab.research.google.com/notebooks/data_table.ipynb>data table notebook</a>'\n",
              "            + ' to learn more about interactive tables.';\n",
              "          element.innerHTML = '';\n",
              "          dataTable['output_type'] = 'display_data';\n",
              "          await google.colab.output.renderOutput(dataTable, element);\n",
              "          const docLink = document.createElement('div');\n",
              "          docLink.innerHTML = docLinkHtml;\n",
              "          element.appendChild(docLink);\n",
              "        }\n",
              "      </script>\n",
              "    </div>\n",
              "  </div>\n",
              "  "
            ]
          },
          "metadata": {},
          "execution_count": 19
        }
      ]
    },
    {
      "cell_type": "code",
      "execution_count": null,
      "metadata": {
        "id": "ynEjWjvxkpzP"
      },
      "outputs": [],
      "source": [
        "print(pre_data['labels'][0],end='')"
      ]
    },
    {
      "cell_type": "code",
      "execution_count": null,
      "metadata": {
        "colab": {
          "base_uri": "https://localhost:8080/"
        },
        "id": "ZVfPnmEwCNA5",
        "outputId": "8570316e-c790-46d9-9305-23720dc1fd80"
      },
      "outputs": [
        {
          "output_type": "stream",
          "name": "stdout",
          "text": [
            "406\n"
          ]
        },
        {
          "output_type": "execute_result",
          "data": {
            "text/plain": [
              "406"
            ]
          },
          "metadata": {},
          "execution_count": 20
        }
      ],
      "source": [
        "print(len(np.unique(pre_data['labels_ids'])))\n",
        "len(np.unique(pre_data['label']))"
      ]
    },
    {
      "cell_type": "code",
      "execution_count": null,
      "metadata": {
        "id": "Ssx_6C8ECKyU"
      },
      "outputs": [],
      "source": [
        "def num_labels (labels, data):\n",
        "    label_count = {}\n",
        "    for label in labels:\n",
        "        len_label = len(data[data['label'] == label])\n",
        "        label_count[label] = len_label\n",
        "    \n",
        "    return label_count"
      ]
    },
    {
      "cell_type": "code",
      "source": [
        "labels_count = num_labels(labels, data)\n",
        "labels_count"
      ],
      "metadata": {
        "colab": {
          "base_uri": "https://localhost:8080/"
        },
        "id": "YpQ3h8VCFv_H",
        "outputId": "64af1059-a0fc-47f7-9814-c713c210b745"
      },
      "execution_count": null,
      "outputs": [
        {
          "output_type": "execute_result",
          "data": {
            "text/plain": [
              "{'B-DETECTIONMETHOD': 839,\n",
              " 'B-HOST': 2102,\n",
              " 'B-VIRUS': 2883,\n",
              " 'I-DETECTIONMETHOD': 157,\n",
              " 'I-HOST': 671,\n",
              " 'I-VIRUS': 1414,\n",
              " 'O': 88674}"
            ]
          },
          "metadata": {},
          "execution_count": 15
        }
      ]
    },
    {
      "cell_type": "code",
      "execution_count": null,
      "metadata": {
        "colab": {
          "base_uri": "https://localhost:8080/",
          "height": 516
        },
        "id": "msydiHzPELno",
        "outputId": "6345c3f4-cf98-42ec-866f-2ccfe30ac070"
      },
      "outputs": [
        {
          "output_type": "display_data",
          "data": {
            "text/plain": [
              "<Figure size 720x432 with 1 Axes>"
            ],
            "image/png": "[encoded data removed]"
          },
          "metadata": {
            "needs_background": "light"
          }
        }
      ],
      "source": [
        "plt.figure(figsize = (10, 6))\n",
        "plt.hist(data.label, log = True, label = 'label', color = 'darkcyan', bins = 16)\n",
        "plt.xlabel('Entities', fontsize = 16)\n",
        "plt.ylabel('Number of  Entities', fontsize = 16)\n",
        "plt.title(\"Entities distribution \", fontsize = 20)\n",
        "plt.grid(alpha=0.0)\n",
        "plt.legend()\n",
        "plt.xticks(fontsize=10)\n",
        "plt.yticks(fontsize=10)\n",
        "plt.xticks(rotation=90)\n",
        "plt.show()"
      ]
    },
    {
      "cell_type": "code",
      "execution_count": null,
      "metadata": {
        "id": "J34m3XDZUTT2"
      },
      "outputs": [],
      "source": [
        "X=pre_data['words']"
      ]
    },
    {
      "cell_type": "code",
      "execution_count": null,
      "metadata": {
        "id": "8c4UOlxBBwrO"
      },
      "outputs": [],
      "source": [
        "y=pre_data['labels_ids']"
      ]
    },
    {
      "cell_type": "code",
      "execution_count": null,
      "metadata": {
        "colab": {
          "base_uri": "https://localhost:8080/"
        },
        "id": "Wle7mZKCAZw_",
        "outputId": "fc2edca5-555c-491f-9b1e-76d68be8b99b"
      },
      "outputs": [
        {
          "output_type": "stream",
          "name": "stdout",
          "text": [
            "['O', 'O', 'O', 'O', 'O', 'O', 'O', 'O', 'O', 'O', 'O', 'O', 'O', 'O', 'O', 'O', 'O', 'O', 'O', 'O', 'O', 'O', 'O', 'O', 'O', 'O', 'O', 'O', 'O', 'O', 'O', 'O', 'O', 'O', 'O', 'B-VIRUS', 'I-VIRUS', 'I-VIRUS', 'O', 'O', 'O', 'O', 'O', 'O', 'B-HOST', 'I-HOST', 'B-HOST', 'I-HOST', 'O', 'O', 'O', 'O', 'O', 'O', 'O', 'O', 'O', 'O', 'O', 'O', 'O', 'O', 'O', 'O', 'O', 'O', 'O', 'O', 'B-DETECTIONMETHOD', 'O', 'O', 'O', 'O', 'O', 'O', 'O', 'O', 'O', 'O', 'O', 'O', 'B-DETECTIONMETHOD', 'O', 'O', 'O', 'O', 'O', 'O', 'O', 'O', 'O', 'B-DETECTIONMETHOD', 'O', 'O', 'O', 'O', 'O', 'O', 'O', 'O', 'O', 'O', 'O', 'O', 'O', 'O', 'O', 'O', 'O', 'O', 'O', 'O', 'O', 'O', 'O', 'O', 'O', 'O', 'O', 'O', 'O', 'O', 'O', 'O', 'O', 'O', 'O', 'O', 'O', 'O', 'O', 'O', 'O', 'O', 'O', 'O', 'O', 'O', 'O', 'O', 'O', 'O', 'O', 'B-HOST', 'I-HOST', 'O', 'O', 'O', 'O', 'O', 'O', 'O', 'O', 'O', 'O', 'O', 'O', 'O', 'O', 'O', 'O', 'O', 'O', 'O', 'O', 'O', 'O', 'O', 'O', 'O', 'O', 'O', 'O', 'O', 'B-DETECTIONMETHOD', 'O', 'O', 'O', 'O', 'O', 'O', 'O', 'O', 'O', 'O', 'O', 'O', 'O', 'O', 'O', 'O', 'O', 'O', 'O', 'O', 'O', 'O', 'O', 'O', 'O', 'O', 'O', 'O', 'O', 'O', 'O', 'O', 'O', 'O', 'O', 'O', 'O', 'O', 'O', 'O', 'O', 'O', 'O', 'O', 'O', 'O', 'O', 'O', 'O', 'O', 'O', 'O', 'O', 'O', 'O', 'O', 'O', 'O', 'O', 'O', 'O', 'O', 'O', 'O', 'O', 'O', 'O', 'O', 'O', 'O', 'O', 'O', 'O', 'O', 'O', 'O', 'O', 'O', 'O', 'O', 'O', 'O', 'O', 'O', 'O', 'O', 'O', 'O', 'O', 'O', 'O', 'O', 'O', 'O']"
          ]
        }
      ],
      "source": [
        "print(pre_data['label'][4],end='')"
      ]
    },
    {
      "cell_type": "code",
      "execution_count": null,
      "metadata": {
        "colab": {
          "base_uri": "https://localhost:8080/"
        },
        "id": "s_ki9AcLXyb0",
        "outputId": "48d3f9d5-5339-4c93-e3a5-3896511a1611"
      },
      "outputs": [
        {
          "output_type": "execute_result",
          "data": {
            "text/plain": [
              "(303, 303)"
            ]
          },
          "metadata": {},
          "execution_count": 29
        }
      ],
      "source": [
        "len(X[100].split()),len(y[100])"
      ]
    },
    {
      "cell_type": "code",
      "execution_count": null,
      "metadata": {
        "colab": {
          "base_uri": "https://localhost:8080/"
        },
        "id": "-_uFOqxEYLDQ",
        "outputId": "a49b2022-2fb1-4795-ecbf-0eb9a06e0f44"
      },
      "outputs": [
        {
          "output_type": "stream",
          "name": "stdout",
          "text": [
            "sampele from x: To determine whether transplacental transmission could explain overwintering of bluetongue virus in the United Kingdom we studied calves born to dams naturally infected during pregnancy Approximately were infected transplacentally some had compromised health In all infected calves viral load decreased after birth no evidence of persistent infection was found\n",
            "Its label: [1, 1, 1, 1, 1, 1, 1, 1, 1, 2, 1, 1, 1, 1, 1, 1, 1, 2, 1, 1, 1, 1, 1, 1, 1, 1, 1, 1, 1, 1, 1, 1, 1, 1, 1, 1, 1, 1, 1, 1, 1, 1, 1, 1, 1, 1, 1, 1, 1]\n"
          ]
        }
      ],
      "source": [
        "print('sampele from x:',X[0])\n",
        "print('Its label:',y[0])"
      ]
    },
    {
      "cell_type": "markdown",
      "metadata": {
        "id": "B1hTEE_RHqa8"
      },
      "source": [
        "## Tokenization and padding"
      ]
    },
    {
      "cell_type": "code",
      "execution_count": null,
      "metadata": {
        "colab": {
          "base_uri": "https://localhost:8080/"
        },
        "id": "G9a5QbVWHqIr",
        "outputId": "ee7d5bf6-84b5-4b68-a717-2498f786dbf9"
      },
      "outputs": [
        {
          "output_type": "stream",
          "name": "stdout",
          "text": [
            "Number of unique words in the dataset: 9629\n"
          ]
        }
      ],
      "source": [
        "# 1. for the trainig data\n",
        "max_word=data.word.nunique()\n",
        "maxlen = len((max((X), key=lambda x: len(x.split()))).split())\n",
        "print(\"Number of unique words in the dataset: {}\".format(max_word))"
      ]
    },
    {
      "cell_type": "code",
      "execution_count": null,
      "metadata": {
        "colab": {
          "base_uri": "https://localhost:8080/"
        },
        "id": "52hxNVRWf1JF",
        "outputId": "4c838ea8-32ec-490b-c90f-d4a28cab3f81"
      },
      "outputs": [
        {
          "output_type": "execute_result",
          "data": {
            "text/plain": [
              "384"
            ]
          },
          "metadata": {},
          "execution_count": 49
        }
      ],
      "source": [
        "maxlen"
      ]
    },
    {
      "cell_type": "code",
      "execution_count": null,
      "metadata": {
        "id": "CZJSemuCEJhy"
      },
      "outputs": [],
      "source": [
        "tokenizer=Tokenizer(num_words=max_word,oov_token='<OOV>') # using the maximum number in our data to aviod lossing any. \n",
        "tokenizer.fit_on_texts(X)"
      ]
    },
    {
      "cell_type": "code",
      "execution_count": null,
      "metadata": {
        "id": "wpwngun5FrzS"
      },
      "outputs": [],
      "source": [
        "seq=tokenizer.texts_to_sequences(X)"
      ]
    },
    {
      "cell_type": "code",
      "execution_count": null,
      "metadata": {
        "id": "yCBNblLKCCp5"
      },
      "outputs": [],
      "source": [
        "# will need it later for prediction \n",
        "word2id = tokenizer.word_index"
      ]
    },
    {
      "cell_type": "code",
      "source": [
        "word2id"
      ],
      "metadata": {
        "id": "2RKc0uR8VA01"
      },
      "execution_count": null,
      "outputs": []
    },
    {
      "cell_type": "code",
      "execution_count": null,
      "metadata": {
        "id": "fhRWbbdoGFVh"
      },
      "outputs": [],
      "source": [
        "id2word = {}\n",
        "for key, value in word2id.items():\n",
        "    id2word[value] = key"
      ]
    },
    {
      "cell_type": "code",
      "source": [
        "id2word"
      ],
      "metadata": {
        "id": "-bDdhNDnEzgZ"
      },
      "execution_count": null,
      "outputs": []
    },
    {
      "cell_type": "code",
      "execution_count": null,
      "metadata": {
        "id": "n9ojRmVxeIyd"
      },
      "outputs": [],
      "source": [
        "X_p=pad_sequences(seq,padding='post',maxlen=maxlen)"
      ]
    },
    {
      "cell_type": "markdown",
      "metadata": {
        "id": "jTNlk3G6gkK5"
      },
      "source": [
        " preprocess labels by assigning a unique identifier for each one of them.\n",
        "\n",
        "labels have different lenghts, to solve this \n",
        "\n",
        "We can assign a new tag for the zeros that we used in padding\n",
        "We can use the O tag for them."
      ]
    },
    {
      "cell_type": "code",
      "execution_count": null,
      "metadata": {
        "id": "sOfc-TLoebCB"
      },
      "outputs": [],
      "source": [
        "y_p=pad_sequences(y,padding='post',maxlen=maxlen)"
      ]
    },
    {
      "cell_type": "code",
      "source": [
        "print(\"Before Padding:\",len(y[0]),len(y[8]))\n",
        "print(\"After Padding:\",len(y_p[0]),len(y_p[8]))"
      ],
      "metadata": {
        "colab": {
          "base_uri": "https://localhost:8080/"
        },
        "id": "fm718tPFG0pl",
        "outputId": "09a549e1-a384-4bb7-ec2b-325a205e864f"
      },
      "execution_count": null,
      "outputs": [
        {
          "output_type": "stream",
          "name": "stdout",
          "text": [
            "Before Padding: 49 135\n",
            "After Padding: 432 432\n"
          ]
        }
      ]
    },
    {
      "cell_type": "code",
      "execution_count": null,
      "metadata": {
        "colab": {
          "base_uri": "https://localhost:8080/"
        },
        "id": "RaMrh6Z6VqlU",
        "outputId": "b5ecb87d-aa5e-4f92-b9f7-e1421d7c13f9"
      },
      "outputs": [
        {
          "output_type": "execute_result",
          "data": {
            "text/plain": [
              "((524, 432), (524, 432))"
            ]
          },
          "metadata": {},
          "execution_count": 29
        }
      ],
      "source": [
        "X_p.shape,y_p.shape"
      ]
    },
    {
      "cell_type": "code",
      "execution_count": null,
      "metadata": {
        "id": "mqsvSlQIVJ6s"
      },
      "outputs": [],
      "source": [
        "#Split the data"
      ]
    },
    {
      "cell_type": "code",
      "execution_count": null,
      "metadata": {
        "id": "J-yxLWNWVJUn"
      },
      "outputs": [],
      "source": [
        "# 85% train and validation,    15% for test\n",
        "samples_train=int(len(X)*0.80)"
      ]
    },
    {
      "cell_type": "code",
      "source": [
        "from sklearn.utils import shuffle\n",
        "X_s,y_s=shuffle(X_p,y_p,random_state=0)"
      ],
      "metadata": {
        "id": "mgRv2dHqI7QK"
      },
      "execution_count": null,
      "outputs": []
    },
    {
      "cell_type": "code",
      "execution_count": null,
      "metadata": {
        "colab": {
          "base_uri": "https://localhost:8080/"
        },
        "id": "v2uWiDASHz-x",
        "outputId": "c097067d-285f-470b-c55c-3a1913af4975"
      },
      "outputs": [
        {
          "output_type": "execute_result",
          "data": {
            "text/plain": [
              "(((450, 432), (450, 432)), ((74, 432), (74, 432)))"
            ]
          },
          "metadata": {},
          "execution_count": 33
        }
      ],
      "source": [
        "X_train=X_p[:samples_train]\n",
        "y_train=y_p[:samples_train]\n",
        "X_test=X_p[samples_train:]\n",
        "y_test=y_p[samples_train:]\n",
        "(X_train.shape,y_train.shape),(X_test.shape,y_test.shape)"
      ]
    },
    {
      "cell_type": "code",
      "execution_count": null,
      "metadata": {
        "id": "CkC1-nQulhOH"
      },
      "outputs": [],
      "source": [
        "embedding_dim = 150\n",
        "max_words = 36000\n",
        "num_tags=len(labels)"
      ]
    },
    {
      "cell_type": "markdown",
      "source": [
        "## Models   \n",
        "1. LSTM\n",
        "2. Transformer "
      ],
      "metadata": {
        "id": "xwNrx0DxSab2"
      }
    },
    {
      "cell_type": "code",
      "source": [
        "## 1.  basic LSTM model\n",
        "model = tf.keras.models.Sequential([\n",
        "    tf.keras.layers.Embedding(max_words, embedding_dim, input_length=maxlen),\n",
        "    tf.keras.layers.Bidirectional(tf.keras.layers.LSTM(units=100, activation='tanh', return_sequences=True)),\n",
        "    tf.keras.layers.Bidirectional(tf.keras.layers.LSTM(units=100, activation='tanh', return_sequences=True)),\n",
        "    tf.keras.layers.TimeDistributed(tf.keras.layers.Dense(num_tags, activation='softmax'))\n",
        "])"
      ],
      "metadata": {
        "id": "r8UnY_ySSKTX"
      },
      "execution_count": null,
      "outputs": []
    },
    {
      "cell_type": "code",
      "execution_count": null,
      "metadata": {
        "id": "iaTFdX-9cnlQ"
      },
      "outputs": [],
      "source": [
        "#2. Transformer\n",
        "class TransformerBlock(layers.Layer):\n",
        "    def __init__(self, embed_dim, num_heads, ff_dim, rate=0.1):\n",
        "        super(TransformerBlock, self).__init__()\n",
        "        self.att = keras.layers.MultiHeadAttention(\n",
        "            num_heads=num_heads, key_dim=embed_dim\n",
        "        )\n",
        "        self.ffn = keras.Sequential(\n",
        "            [\n",
        "                keras.layers.Dense(ff_dim, activation=\"relu\"),\n",
        "                keras.layers.Dense(embed_dim),\n",
        "            ]\n",
        "        )\n",
        "        self.layernorm1 = keras.layers.LayerNormalization(epsilon=1e-6)\n",
        "        self.layernorm2 = keras.layers.LayerNormalization(epsilon=1e-6)\n",
        "        self.dropout1 = keras.layers.Dropout(rate)\n",
        "        self.dropout2 = keras.layers.Dropout(rate)\n",
        "\n",
        "    def call(self, inputs, training=True):\n",
        "        attn_output = self.att(inputs, inputs)\n",
        "        attn_output = self.dropout1(attn_output, training=training)\n",
        "        out1 = self.layernorm1(inputs + attn_output)\n",
        "        ffn_output = self.ffn(out1)\n",
        "        ffn_output = self.dropout2(ffn_output, training=training)\n",
        "        return self.layernorm2(out1 + ffn_output)"
      ]
    },
    {
      "cell_type": "code",
      "execution_count": null,
      "metadata": {
        "id": "DlnBIy94cyTj"
      },
      "outputs": [],
      "source": [
        "class TokenAndPositionEmbedding(layers.Layer):\n",
        "    def __init__(self, maxlen, vocab_size, embed_dim):\n",
        "        super(TokenAndPositionEmbedding, self).__init__()\n",
        "        self.token_emb = keras.layers.Embedding(\n",
        "            input_dim=vocab_size, output_dim=embed_dim\n",
        "        )\n",
        "        self.pos_emb = keras.layers.Embedding(input_dim=maxlen, output_dim=embed_dim)\n",
        "\n",
        "    def call(self, inputs):\n",
        "        maxlen = tf.shape(inputs)[-1]\n",
        "        positions = tf.range(start=0, limit=maxlen, delta=1)\n",
        "        position_embeddings = self.pos_emb(positions)\n",
        "        token_embeddings = self.token_emb(inputs)\n",
        "        return token_embeddings + position_embeddings\n"
      ]
    },
    {
      "cell_type": "code",
      "source": [
        "def ner_transformer(num_tags,vocab_size,maxlen=128, embed_dim=32, num_heads=2, units=32,dropout_rate=0.1):\n",
        "\n",
        "  inputs=keras.layers.Input(shape=(maxlen,),dtype='int32')\n",
        "  embedding= TokenAndPositionEmbedding(maxlen, vocab_size, embed_dim)(inputs)\n",
        "  transformer_block = TransformerBlock(embed_dim, num_heads, units)(embedding)\n",
        "  x = layers.Dropout(dropout_rate)(transformer_block)\n",
        "  x=layers.Dense(units, activation=\"relu\")(x)\n",
        "  x = layers.Dropout(dropout_rate)(x)\n",
        "  y = layers.Dense(num_tags, activation=\"softmax\")(x)\n",
        "  model=keras.Model(inputs=[inputs],outputs=[y])\n",
        "  return model\n"
      ],
      "metadata": {
        "id": "mh03HOlMMQV6"
      },
      "execution_count": null,
      "outputs": []
    },
    {
      "cell_type": "code",
      "source": [
        "model = ner_transformer(num_tags, max_words, maxlen,embed_dim=embedding_dim, num_heads=4, units=64)"
      ],
      "metadata": {
        "id": "aW35bALHNwvR"
      },
      "execution_count": null,
      "outputs": []
    },
    {
      "cell_type": "code",
      "source": [
        "model.build(input_shape=[None,maxlen])"
      ],
      "metadata": {
        "id": "JHHUVvHE1IYC"
      },
      "execution_count": null,
      "outputs": []
    },
    {
      "cell_type": "code",
      "source": [
        "model.summary()"
      ],
      "metadata": {
        "id": "1-o-GN9R1ErZ",
        "colab": {
          "base_uri": "https://localhost:8080/"
        },
        "outputId": "7150fb4a-da6b-496f-877c-655087929ca8"
      },
      "execution_count": null,
      "outputs": [
        {
          "output_type": "stream",
          "name": "stdout",
          "text": [
            "Model: \"model\"\n",
            "_________________________________________________________________\n",
            " Layer (type)                Output Shape              Param #   \n",
            "=================================================================\n",
            " input_1 (InputLayer)        [(None, 432)]             0         \n",
            "                                                                 \n",
            " token_and_position_embeddin  (None, 432, 150)         5464800   \n",
            " g (TokenAndPositionEmbeddin                                     \n",
            " g)                                                              \n",
            "                                                                 \n",
            " transformer_block (Transfor  (None, 432, 150)         381964    \n",
            " merBlock)                                                       \n",
            "                                                                 \n",
            " dropout_2 (Dropout)         (None, 432, 150)          0         \n",
            "                                                                 \n",
            " dense_2 (Dense)             (None, 432, 64)           9664      \n",
            "                                                                 \n",
            " dropout_3 (Dropout)         (None, 432, 64)           0         \n",
            "                                                                 \n",
            " dense_3 (Dense)             (None, 432, 7)            455       \n",
            "                                                                 \n",
            "=================================================================\n",
            "Total params: 5,856,883\n",
            "Trainable params: 5,856,883\n",
            "Non-trainable params: 0\n",
            "_________________________________________________________________\n"
          ]
        }
      ]
    },
    {
      "cell_type": "code",
      "execution_count": null,
      "metadata": {
        "id": "P3YJoh3BlmYn"
      },
      "outputs": [],
      "source": [
        "optimizer = tf.keras.optimizers.Adam(learning_rate=0.0001)\n",
        "loss = tf.keras.losses.SparseCategoricalCrossentropy(from_logits=True)\n",
        "model.compile(optimizer=optimizer, loss=loss, metrics=['accuracy']) #metric"
      ]
    },
    {
      "cell_type": "code",
      "source": [
        "%tensorboard --logdir logs"
      ],
      "metadata": {
        "id": "39RKrqRf3RVb"
      },
      "execution_count": null,
      "outputs": []
    },
    {
      "cell_type": "code",
      "source": [
        "history = model.fit(X_train,y_train,validation_split=0.2,epochs=20,batch_size=15)"
      ],
      "metadata": {
        "id": "FKAyzqPlD2vW",
        "colab": {
          "base_uri": "https://localhost:8080/"
        },
        "outputId": "585e0721-e4eb-4bf8-f694-395f72205819"
      },
      "execution_count": null,
      "outputs": [
        {
          "output_type": "stream",
          "name": "stdout",
          "text": [
            "Epoch 1/20\n"
          ]
        },
        {
          "output_type": "stream",
          "name": "stderr",
          "text": [
            "/usr/local/lib/python3.7/dist-packages/tensorflow/python/util/dispatch.py:1082: UserWarning: \"`sparse_categorical_crossentropy` received `from_logits=True`, but the `output` argument was produced by a sigmoid or softmax activation and thus does not represent logits. Was this intended?\"\n",
            "  return dispatch_target(*args, **kwargs)\n"
          ]
        },
        {
          "output_type": "stream",
          "name": "stdout",
          "text": [
            "24/24 [==============================] - 2s 35ms/step - loss: 0.6036 - accuracy: 0.8439 - val_loss: 0.2377 - val_accuracy: 0.9570\n",
            "Epoch 2/20\n",
            "24/24 [==============================] - 1s 22ms/step - loss: 0.2112 - accuracy: 0.9650 - val_loss: 0.2182 - val_accuracy: 0.9574\n",
            "Epoch 3/20\n",
            "24/24 [==============================] - 1s 21ms/step - loss: 0.1888 - accuracy: 0.9650 - val_loss: 0.1978 - val_accuracy: 0.9573\n",
            "Epoch 4/20\n",
            "24/24 [==============================] - 1s 21ms/step - loss: 0.1738 - accuracy: 0.9650 - val_loss: 0.1868 - val_accuracy: 0.9575\n",
            "Epoch 5/20\n",
            "24/24 [==============================] - 1s 22ms/step - loss: 0.1604 - accuracy: 0.9654 - val_loss: 0.1754 - val_accuracy: 0.9577\n",
            "Epoch 6/20\n",
            "24/24 [==============================] - 1s 21ms/step - loss: 0.1475 - accuracy: 0.9659 - val_loss: 0.1654 - val_accuracy: 0.9585\n",
            "Epoch 7/20\n",
            "24/24 [==============================] - 1s 22ms/step - loss: 0.1357 - accuracy: 0.9666 - val_loss: 0.1557 - val_accuracy: 0.9597\n",
            "Epoch 8/20\n",
            "24/24 [==============================] - 1s 22ms/step - loss: 0.1242 - accuracy: 0.9678 - val_loss: 0.1468 - val_accuracy: 0.9608\n",
            "Epoch 9/20\n",
            "24/24 [==============================] - 1s 22ms/step - loss: 0.1139 - accuracy: 0.9692 - val_loss: 0.1393 - val_accuracy: 0.9624\n",
            "Epoch 10/20\n",
            "24/24 [==============================] - 1s 21ms/step - loss: 0.1034 - accuracy: 0.9707 - val_loss: 0.1320 - val_accuracy: 0.9642\n",
            "Epoch 11/20\n",
            "24/24 [==============================] - 1s 21ms/step - loss: 0.0952 - accuracy: 0.9725 - val_loss: 0.1269 - val_accuracy: 0.9655\n",
            "Epoch 12/20\n",
            "24/24 [==============================] - 1s 22ms/step - loss: 0.0871 - accuracy: 0.9742 - val_loss: 0.1216 - val_accuracy: 0.9669\n",
            "Epoch 13/20\n",
            "24/24 [==============================] - 1s 22ms/step - loss: 0.0794 - accuracy: 0.9759 - val_loss: 0.1173 - val_accuracy: 0.9681\n",
            "Epoch 14/20\n",
            "24/24 [==============================] - 1s 22ms/step - loss: 0.0734 - accuracy: 0.9773 - val_loss: 0.1145 - val_accuracy: 0.9688\n",
            "Epoch 15/20\n",
            "24/24 [==============================] - 1s 22ms/step - loss: 0.0688 - accuracy: 0.9785 - val_loss: 0.1121 - val_accuracy: 0.9693\n",
            "Epoch 16/20\n",
            "24/24 [==============================] - 1s 21ms/step - loss: 0.0643 - accuracy: 0.9800 - val_loss: 0.1105 - val_accuracy: 0.9700\n",
            "Epoch 17/20\n",
            "24/24 [==============================] - 1s 23ms/step - loss: 0.0609 - accuracy: 0.9805 - val_loss: 0.1091 - val_accuracy: 0.9706\n",
            "Epoch 18/20\n",
            "24/24 [==============================] - 1s 21ms/step - loss: 0.0569 - accuracy: 0.9819 - val_loss: 0.1069 - val_accuracy: 0.9713\n",
            "Epoch 19/20\n",
            "24/24 [==============================] - 1s 22ms/step - loss: 0.0541 - accuracy: 0.9827 - val_loss: 0.1061 - val_accuracy: 0.9717\n",
            "Epoch 20/20\n",
            "24/24 [==============================] - 1s 22ms/step - loss: 0.0516 - accuracy: 0.9836 - val_loss: 0.1062 - val_accuracy: 0.9718\n"
          ]
        }
      ]
    },
    {
      "cell_type": "code",
      "execution_count": null,
      "metadata": {
        "colab": {
          "base_uri": "https://localhost:8080/",
          "height": 282
        },
        "id": "JlbWpEidHWpc",
        "outputId": "bf77214a-5a7d-4bc0-ba15-b34abad26081"
      },
      "outputs": [
        {
          "output_type": "execute_result",
          "data": {
            "text/plain": [
              "<matplotlib.axes._subplots.AxesSubplot at 0x7f1e100caf10>"
            ]
          },
          "metadata": {},
          "execution_count": 47
        },
        {
          "output_type": "display_data",
          "data": {
            "text/plain": [
              "<Figure size 432x288 with 1 Axes>"
            ],
            "image/png": "[encoded data removed]"
          },
          "metadata": {
            "needs_background": "light"
          }
        }
      ],
      "source": [
        "pd.DataFrame(history.history).plot()"
      ]
    },
    {
      "cell_type": "markdown",
      "metadata": {
        "id": "J3IaQOruGZNU"
      },
      "source": [
        "Perform the same steps on the test data"
      ]
    },
    {
      "cell_type": "markdown",
      "metadata": {
        "id": "fuphSL6AIUsj"
      },
      "source": [
        "## Evaluation and Prediction"
      ]
    },
    {
      "cell_type": "code",
      "execution_count": null,
      "metadata": {
        "colab": {
          "base_uri": "https://localhost:8080/"
        },
        "id": "ljtOLcupHLX0",
        "outputId": "c73909d3-ea60-4fa9-a6e2-6d2eb13cb8d7"
      },
      "outputs": [
        {
          "output_type": "stream",
          "name": "stdout",
          "text": [
            "\r1/3 [=========>....................] - ETA: 0s - loss: 0.0613 - accuracy: 0.9823"
          ]
        },
        {
          "output_type": "stream",
          "name": "stderr",
          "text": [
            "/usr/local/lib/python3.7/dist-packages/tensorflow/python/util/dispatch.py:1082: UserWarning: \"`sparse_categorical_crossentropy` received `from_logits=True`, but the `output` argument was produced by a sigmoid or softmax activation and thus does not represent logits. Was this intended?\"\n",
            "  return dispatch_target(*args, **kwargs)\n"
          ]
        },
        {
          "output_type": "stream",
          "name": "stdout",
          "text": [
            "\b\b\b\b\b\b\b\b\b\b\b\b\b\b\b\b\b\b\b\b\b\b\b\b\b\b\b\b\b\b\b\b\b\b\b\b\b\b\b\b\b\b\b\b\b\b\b\b\b\b\b\b\b\b\b\b\b\b\b\b\b\b\b\b\b\b\b\b\b\b\b\b\b\b\b\b\b\b\b\b\r3/3 [==============================] - 0s 15ms/step - loss: 0.0625 - accuracy: 0.9827\n"
          ]
        },
        {
          "output_type": "execute_result",
          "data": {
            "text/plain": [
              "[0.062450848519802094, 0.9826701879501343]"
            ]
          },
          "metadata": {},
          "execution_count": 48
        }
      ],
      "source": [
        "model.evaluate(X_test,y_test)"
      ]
    },
    {
      "cell_type": "code",
      "source": [
        "p=model.predict([X_test])"
      ],
      "metadata": {
        "id": "L4kehy99Qp12"
      },
      "execution_count": null,
      "outputs": []
    },
    {
      "cell_type": "code",
      "source": [
        "y_predict=np.zeros((y_test.shape[0],y_test.shape[1]),dtype=np.int32)\n",
        "for i in range(len(y_test)):\n",
        "  y_predict[i,:]=np.argmax(p[i], axis=1)"
      ],
      "metadata": {
        "id": "yA2YtvVnQ2HJ"
      },
      "execution_count": null,
      "outputs": []
    },
    {
      "cell_type": "code",
      "source": [
        "def compute_metric(y_test,y_predict):\n",
        "  P=0\n",
        "  R=0\n",
        "  F=0\n",
        "  for i in range(y_test.shape[0]):\n",
        "      precision, recall, f1, _ = precision_recall_fscore_support(y_test[i], y_predict[i], average='weighted', labels=np.unique(y_test))\n",
        "      P+=precision\n",
        "      R+=recall\n",
        "      F+=f1\n",
        "  return {\n",
        "      'Precision':P/y_predict.shape[0],\n",
        "      'Recall':R/y_predict.shape[0],\n",
        "      'F1-Score':F/y_predict.shape[0]}\n",
        "\n"
      ],
      "metadata": {
        "id": "sk3sX5R3Q5cA"
      },
      "execution_count": null,
      "outputs": []
    },
    {
      "cell_type": "code",
      "source": [
        "compute_metric(y_test,y_predict)"
      ],
      "metadata": {
        "id": "8yqYlRZhQ7jC"
      },
      "execution_count": null,
      "outputs": []
    },
    {
      "cell_type": "code",
      "source": [
        "{'F1-Score': 0.9795434714157091,\n",
        " 'Precision': 0.9793462923964108,\n",
        " 'Recall': 0.9826701701701706}"
      ],
      "metadata": {
        "id": "FcnzraoZRIe0"
      },
      "execution_count": null,
      "outputs": []
    },
    {
      "cell_type": "markdown",
      "source": [
        "## Results"
      ],
      "metadata": {
        "id": "8D42dAcCRLZ6"
      }
    },
    {
      "cell_type": "code",
      "execution_count": null,
      "metadata": {
        "id": "mQSR8leTIlpd"
      },
      "outputs": [],
      "source": [
        "def ner_prediction(model, x_test, id2word, id2tag):\n",
        "    \n",
        "    #reshape to tf shape:\n",
        "    x_test = x_test.reshape((1, maxlen))\n",
        "\n",
        "    # return x_test to its words form\n",
        "    sentence = x_test[x_test > 0]\n",
        "    word_list = []\n",
        "    for word in list(sentence):\n",
        "        word_list.append(id2word[word])\n",
        "    orginal_sententce = ' '.join(word_list)\n",
        "    \n",
        "    len_orginal_sententce = len(word_list)\n",
        "    \n",
        "    # make prediction\n",
        "    prediction = model.predict(x_test)\n",
        "    prediction = np.argmax(prediction[0], axis=1)\n",
        "    \n",
        "    # return the prediction to its orginal form\n",
        "    prediction = list(prediction)[ : len_orginal_sententce] \n",
        "    \n",
        "    pred_tag_list = []\n",
        "    for tag_id in prediction:\n",
        "        pred_tag_list.append(id2tag[tag_id])\n",
        "    \n",
        "    return orginal_sententce,  pred_tag_list,prediction\n"
      ]
    },
    {
      "cell_type": "code",
      "execution_count": null,
      "metadata": {
        "id": "WLQ_LhRKORFm"
      },
      "outputs": [],
      "source": [
        "orginal_sententce,  pred_tag_list,prediction = ner_prediction(model=model,\n",
        "                                                    x_test=X_test[1],    #8\n",
        "                                                    id2word=id2word,\n",
        "                                                    id2tag=id2tag)\n"
      ]
    },
    {
      "cell_type": "markdown",
      "source": [
        "### To do:    \n",
        "1. build a function to high the entities\n",
        "2."
      ],
      "metadata": {
        "id": "J_oMjrwH1HcV"
      }
    },
    {
      "cell_type": "code",
      "source": [
        "!pip install colorama"
      ],
      "metadata": {
        "id": "uxAOYHWCYiI_"
      },
      "execution_count": null,
      "outputs": []
    },
    {
      "cell_type": "code",
      "source": [
        "from colorama import Fore, Back, Style"
      ],
      "metadata": {
        "id": "4IzFTnJrYTJl"
      },
      "execution_count": null,
      "outputs": []
    },
    {
      "cell_type": "code",
      "source": [
        "print(Back.GREEN + 'and with a green background')"
      ],
      "metadata": {
        "colab": {
          "base_uri": "https://localhost:8080/"
        },
        "id": "NxQY1wRjZMtG",
        "outputId": "2f4b2069-81a8-478b-ac74-5d927cda58d6"
      },
      "execution_count": null,
      "outputs": [
        {
          "output_type": "stream",
          "name": "stdout",
          "text": [
            "\u001b[42mand with a green background\n"
          ]
        }
      ]
    },
    {
      "cell_type": "code",
      "source": [
        "#on_red, on_green, on_yellow, on_blue, on_magenta, on_cyan, on_white.\n",
        "\n",
        "print((colored('foot and mouth','white','on_cyan',attrs=['bold'])) + colored(' B-VIRUS','yellow','on_cyan') )"
      ],
      "metadata": {
        "colab": {
          "base_uri": "https://localhost:8080/"
        },
        "id": "3jdsVTWjXQoT",
        "outputId": "4e08fd30-4ef3-4d89-d50e-b95a37e9adfa"
      },
      "execution_count": null,
      "outputs": [
        {
          "output_type": "stream",
          "name": "stdout",
          "text": [
            "\u001b[1m\u001b[46m\u001b[37mfoot and mouth\u001b[0m\u001b[46m\u001b[33m B-VIRUS\u001b[0m\n"
          ]
        }
      ]
    },
    {
      "cell_type": "code",
      "source": [
        "# edit this later \" render function\"\n",
        "from termcolor import colored\n",
        "t=orginal_sententce.lower().split()\n",
        "k=17\n",
        "for i,j in enumerate(pred_tag_list):\n",
        "  if j != 'O':   \n",
        "    x=t[i]\n",
        "    sys.stdout.write((colored(x,'magenta','on_white',attrs=['bold'])) +colored('('+j+')','cyan','on_white') +' ') \n",
        "  else: sys.stdout.write(t[i]+' ')   # join them \n",
        "  if i in range(11, len(t),13) :\n",
        "     sys.stdout.write('\\n')\n"
      ],
      "metadata": {
        "colab": {
          "base_uri": "https://localhost:8080/"
        },
        "id": "GwVl6JEJLzGp",
        "outputId": "0c08d163-3219-4020-af44-35430fb711cc"
      },
      "execution_count": null,
      "outputs": [
        {
          "output_type": "stream",
          "name": "stdout",
          "text": [
            "\u001b[1m\u001b[47m\u001b[35mhuman\u001b[0m\u001b[47m\u001b[36m(B-HOST)\u001b[0m \u001b[1m\u001b[47m\u001b[35mantibodies\u001b[0m\u001b[47m\u001b[36m(B-DETECTIONMETHOD)\u001b[0m protect against aerosolized eastern \u001b[1m\u001b[47m\u001b[35mequine\u001b[0m\u001b[47m\u001b[36m(B-VIRUS)\u001b[0m encephalitis virus infection eastern \u001b[1m\u001b[47m\u001b[35mequine\u001b[0m\u001b[47m\u001b[36m(B-VIRUS)\u001b[0m \n",
            "\u001b[1m\u001b[47m\u001b[35mencephalitis\u001b[0m\u001b[47m\u001b[36m(I-VIRUS)\u001b[0m virus eeev is one of the most virulent viruses endemic to north \n",
            "america no licensed vaccines or antiviral therapeutics are available to combat this infection \n",
            "which has recently shown an increase in \u001b[1m\u001b[47m\u001b[35mhuman\u001b[0m\u001b[47m\u001b[36m(B-HOST)\u001b[0m cases here we characterize \u001b[1m\u001b[47m\u001b[35mhuman\u001b[0m\u001b[47m\u001b[36m(B-HOST)\u001b[0m \n",
            "monoclonal \u001b[1m\u001b[47m\u001b[35mantibodies\u001b[0m\u001b[47m\u001b[36m(B-DETECTIONMETHOD)\u001b[0m mabs \u001b[1m\u001b[47m\u001b[35misolated\u001b[0m\u001b[47m\u001b[36m(B-DETECTIONMETHOD)\u001b[0m from a survivor of natural eeev infection with potent \n",
            "pm inhibitory activity of eeev cryo electron microscopy reconstructions of two highly neutralizing \n",
            "mabs eeev and eeev were solved in complex with chimeric \u001b[1m\u001b[47m\u001b[35msindbis\u001b[0m\u001b[47m\u001b[36m(B-VIRUS)\u001b[0m eeev virions \n",
            "to and respectively the mabs recognize two distinct antigenic sites that are critical \n",
            "for inhibiting viral entry into cells eeev and eeev protect against disease following \n",
            "stringent lethal aerosol challenge of \u001b[1m\u001b[47m\u001b[35mmice\u001b[0m\u001b[47m\u001b[36m(B-HOST)\u001b[0m with highly pathogenic eeev these studies provide \n",
            "insight into the molecular basis for the neutralizing \u001b[1m\u001b[47m\u001b[35mhuman\u001b[0m\u001b[47m\u001b[36m(B-HOST)\u001b[0m \u001b[1m\u001b[47m\u001b[35mantibody\u001b[0m\u001b[47m\u001b[36m(B-DETECTIONMETHOD)\u001b[0m response against eeev \n",
            "and can facilitate development of vaccines and candidate \u001b[1m\u001b[47m\u001b[35mantibody\u001b[0m\u001b[47m\u001b[36m(B-DETECTIONMETHOD)\u001b[0m therapeutics keywords eastern equine \n",
            "aerosol encephalitis \u001b[1m\u001b[47m\u001b[35mhuman\u001b[0m\u001b[47m\u001b[36m(B-HOST)\u001b[0m \u001b[1m\u001b[47m\u001b[35mantibodies\u001b[0m\u001b[47m\u001b[36m(B-DETECTIONMETHOD)\u001b[0m monoclonal neutralizing prophylaxis therapy "
          ]
        }
      ]
    }
  ],
  "metadata": {
    "accelerator": "GPU",
    "colab": {
      "provenance": [],
      "authorship_tag": "ABX9TyPmMWIGz0jvxr3lR1yAXTpL",
      "include_colab_link": true
    },
    "gpuClass": "standard",
    "kernelspec": {
      "display_name": "Python 3",
      "name": "python3"
    },
    "language_info": {
      "name": "python"
    }
  },
  "nbformat": 4,
  "nbformat_minor": 0
}